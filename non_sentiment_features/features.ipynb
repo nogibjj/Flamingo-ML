{
 "cells": [
  {
   "cell_type": "code",
   "execution_count": 1,
   "metadata": {},
   "outputs": [],
   "source": [
    "import yfinance as yf\n",
    "import pandas as pd\n",
    "import numpy as np\n",
    "import pandas_datareader as pdr\n",
    "import ta"
   ]
  },
  {
   "cell_type": "code",
   "execution_count": 2,
   "metadata": {},
   "outputs": [],
   "source": [
    "start_date = \"2021-04-14\"  # day we start to have Coinbase news\n",
    "today = pd.Timestamp.today().strftime(\"%Y-%m-%d\")"
   ]
  },
  {
   "cell_type": "markdown",
   "metadata": {},
   "source": [
    "### Yield of 10-year Treasury Notes (long-term risk-free rate)"
   ]
  },
  {
   "cell_type": "code",
   "execution_count": 3,
   "metadata": {},
   "outputs": [
    {
     "data": {
      "text/html": [
       "<div>\n",
       "<style scoped>\n",
       "    .dataframe tbody tr th:only-of-type {\n",
       "        vertical-align: middle;\n",
       "    }\n",
       "\n",
       "    .dataframe tbody tr th {\n",
       "        vertical-align: top;\n",
       "    }\n",
       "\n",
       "    .dataframe thead th {\n",
       "        text-align: right;\n",
       "    }\n",
       "</style>\n",
       "<table border=\"1\" class=\"dataframe\">\n",
       "  <thead>\n",
       "    <tr style=\"text-align: right;\">\n",
       "      <th></th>\n",
       "      <th>DGS10</th>\n",
       "    </tr>\n",
       "    <tr>\n",
       "      <th>DATE</th>\n",
       "      <th></th>\n",
       "    </tr>\n",
       "  </thead>\n",
       "  <tbody>\n",
       "    <tr>\n",
       "      <th>2021-04-14</th>\n",
       "      <td>1.64</td>\n",
       "    </tr>\n",
       "    <tr>\n",
       "      <th>2021-04-15</th>\n",
       "      <td>1.56</td>\n",
       "    </tr>\n",
       "    <tr>\n",
       "      <th>2021-04-16</th>\n",
       "      <td>1.59</td>\n",
       "    </tr>\n",
       "    <tr>\n",
       "      <th>2021-04-19</th>\n",
       "      <td>1.61</td>\n",
       "    </tr>\n",
       "    <tr>\n",
       "      <th>2021-04-20</th>\n",
       "      <td>1.58</td>\n",
       "    </tr>\n",
       "  </tbody>\n",
       "</table>\n",
       "</div>"
      ],
      "text/plain": [
       "            DGS10\n",
       "DATE             \n",
       "2021-04-14   1.64\n",
       "2021-04-15   1.56\n",
       "2021-04-16   1.59\n",
       "2021-04-19   1.61\n",
       "2021-04-20   1.58"
      ]
     },
     "execution_count": 3,
     "metadata": {},
     "output_type": "execute_result"
    }
   ],
   "source": [
    "ten_year_treasury_rate = pdr.data.DataReader(\"DGS10\", \"fred\", start_date, today)\n",
    "ten_year_treasury_rate.head()"
   ]
  },
  {
   "cell_type": "markdown",
   "metadata": {},
   "source": [
    "### Yield on 3-month U.S. Treasury bills (short-term risk-free rate)"
   ]
  },
  {
   "cell_type": "code",
   "execution_count": 4,
   "metadata": {},
   "outputs": [
    {
     "data": {
      "text/html": [
       "<div>\n",
       "<style scoped>\n",
       "    .dataframe tbody tr th:only-of-type {\n",
       "        vertical-align: middle;\n",
       "    }\n",
       "\n",
       "    .dataframe tbody tr th {\n",
       "        vertical-align: top;\n",
       "    }\n",
       "\n",
       "    .dataframe thead th {\n",
       "        text-align: right;\n",
       "    }\n",
       "</style>\n",
       "<table border=\"1\" class=\"dataframe\">\n",
       "  <thead>\n",
       "    <tr style=\"text-align: right;\">\n",
       "      <th></th>\n",
       "      <th>DTB3</th>\n",
       "    </tr>\n",
       "    <tr>\n",
       "      <th>DATE</th>\n",
       "      <th></th>\n",
       "    </tr>\n",
       "  </thead>\n",
       "  <tbody>\n",
       "    <tr>\n",
       "      <th>2021-04-14</th>\n",
       "      <td>0.02</td>\n",
       "    </tr>\n",
       "    <tr>\n",
       "      <th>2021-04-15</th>\n",
       "      <td>0.02</td>\n",
       "    </tr>\n",
       "    <tr>\n",
       "      <th>2021-04-16</th>\n",
       "      <td>0.02</td>\n",
       "    </tr>\n",
       "    <tr>\n",
       "      <th>2021-04-19</th>\n",
       "      <td>0.02</td>\n",
       "    </tr>\n",
       "    <tr>\n",
       "      <th>2021-04-20</th>\n",
       "      <td>0.03</td>\n",
       "    </tr>\n",
       "  </tbody>\n",
       "</table>\n",
       "</div>"
      ],
      "text/plain": [
       "            DTB3\n",
       "DATE            \n",
       "2021-04-14  0.02\n",
       "2021-04-15  0.02\n",
       "2021-04-16  0.02\n",
       "2021-04-19  0.02\n",
       "2021-04-20  0.03"
      ]
     },
     "execution_count": 4,
     "metadata": {},
     "output_type": "execute_result"
    }
   ],
   "source": [
    "three_month_tbill_yield = pdr.data.DataReader(\"DTB3\", \"fred\", start_date, today)\n",
    "three_month_tbill_yield.head()"
   ]
  },
  {
   "cell_type": "markdown",
   "metadata": {},
   "source": [
    "### 5-year breakeven inflation rate "
   ]
  },
  {
   "cell_type": "code",
   "execution_count": 5,
   "metadata": {},
   "outputs": [
    {
     "data": {
      "text/html": [
       "<div>\n",
       "<style scoped>\n",
       "    .dataframe tbody tr th:only-of-type {\n",
       "        vertical-align: middle;\n",
       "    }\n",
       "\n",
       "    .dataframe tbody tr th {\n",
       "        vertical-align: top;\n",
       "    }\n",
       "\n",
       "    .dataframe thead th {\n",
       "        text-align: right;\n",
       "    }\n",
       "</style>\n",
       "<table border=\"1\" class=\"dataframe\">\n",
       "  <thead>\n",
       "    <tr style=\"text-align: right;\">\n",
       "      <th></th>\n",
       "      <th>T5YIE</th>\n",
       "    </tr>\n",
       "    <tr>\n",
       "      <th>DATE</th>\n",
       "      <th></th>\n",
       "    </tr>\n",
       "  </thead>\n",
       "  <tbody>\n",
       "    <tr>\n",
       "      <th>2021-04-14</th>\n",
       "      <td>2.56</td>\n",
       "    </tr>\n",
       "    <tr>\n",
       "      <th>2021-04-15</th>\n",
       "      <td>2.55</td>\n",
       "    </tr>\n",
       "    <tr>\n",
       "      <th>2021-04-16</th>\n",
       "      <td>2.57</td>\n",
       "    </tr>\n",
       "    <tr>\n",
       "      <th>2021-04-19</th>\n",
       "      <td>2.56</td>\n",
       "    </tr>\n",
       "    <tr>\n",
       "      <th>2021-04-20</th>\n",
       "      <td>2.52</td>\n",
       "    </tr>\n",
       "  </tbody>\n",
       "</table>\n",
       "</div>"
      ],
      "text/plain": [
       "            T5YIE\n",
       "DATE             \n",
       "2021-04-14   2.56\n",
       "2021-04-15   2.55\n",
       "2021-04-16   2.57\n",
       "2021-04-19   2.56\n",
       "2021-04-20   2.52"
      ]
     },
     "execution_count": 5,
     "metadata": {},
     "output_type": "execute_result"
    }
   ],
   "source": [
    "five_year_breakeven_inflation = pdr.data.DataReader(\"T5YIE\", \"fred\", start_date, today)\n",
    "five_year_breakeven_inflation.head()"
   ]
  },
  {
   "cell_type": "markdown",
   "metadata": {},
   "source": [
    "### Close price for S&P 500 and VIX"
   ]
  },
  {
   "cell_type": "code",
   "execution_count": 6,
   "metadata": {},
   "outputs": [
    {
     "name": "stderr",
     "output_type": "stream",
     "text": [
      "[*********************100%%**********************]  1 of 1 completed\n",
      "[*********************100%%**********************]  1 of 1 completed\n"
     ]
    },
    {
     "data": {
      "text/plain": [
       "Date\n",
       "2021-04-14    4124.660156\n",
       "2021-04-15    4170.419922\n",
       "2021-04-16    4185.470215\n",
       "2021-04-19    4163.259766\n",
       "2021-04-20    4134.939941\n",
       "Name: S&P500 Close, dtype: float64"
      ]
     },
     "execution_count": 6,
     "metadata": {},
     "output_type": "execute_result"
    }
   ],
   "source": [
    "sp500_close = yf.download(\"^GSPC\", start=start_date, end=today)[\"Close\"].rename(\n",
    "    \"S&P500 Close\"\n",
    ")\n",
    "vix_close = yf.download(\"^VIX\", start=start_date, end=today)[\"Close\"].rename(\n",
    "    \"VIX Close\"\n",
    ")\n",
    "sp500_close.head()"
   ]
  },
  {
   "cell_type": "markdown",
   "metadata": {},
   "source": [
    "### BTC features"
   ]
  },
  {
   "cell_type": "code",
   "execution_count": 7,
   "metadata": {},
   "outputs": [
    {
     "name": "stderr",
     "output_type": "stream",
     "text": [
      "[*********************100%%**********************]  1 of 1 completed\n"
     ]
    },
    {
     "data": {
      "text/html": [
       "<div>\n",
       "<style scoped>\n",
       "    .dataframe tbody tr th:only-of-type {\n",
       "        vertical-align: middle;\n",
       "    }\n",
       "\n",
       "    .dataframe tbody tr th {\n",
       "        vertical-align: top;\n",
       "    }\n",
       "\n",
       "    .dataframe thead th {\n",
       "        text-align: right;\n",
       "    }\n",
       "</style>\n",
       "<table border=\"1\" class=\"dataframe\">\n",
       "  <thead>\n",
       "    <tr style=\"text-align: right;\">\n",
       "      <th></th>\n",
       "      <th>Open</th>\n",
       "      <th>High</th>\n",
       "      <th>Low</th>\n",
       "      <th>Close</th>\n",
       "      <th>Adj Close</th>\n",
       "      <th>Volume</th>\n",
       "    </tr>\n",
       "    <tr>\n",
       "      <th>Date</th>\n",
       "      <th></th>\n",
       "      <th></th>\n",
       "      <th></th>\n",
       "      <th></th>\n",
       "      <th></th>\n",
       "      <th></th>\n",
       "    </tr>\n",
       "  </thead>\n",
       "  <tbody>\n",
       "    <tr>\n",
       "      <th>2021-04-14</th>\n",
       "      <td>63523.753906</td>\n",
       "      <td>64863.097656</td>\n",
       "      <td>61554.796875</td>\n",
       "      <td>63109.695312</td>\n",
       "      <td>63109.695312</td>\n",
       "      <td>77451779687</td>\n",
       "    </tr>\n",
       "    <tr>\n",
       "      <th>2021-04-15</th>\n",
       "      <td>63075.195312</td>\n",
       "      <td>63821.671875</td>\n",
       "      <td>62208.964844</td>\n",
       "      <td>63314.011719</td>\n",
       "      <td>63314.011719</td>\n",
       "      <td>60954381579</td>\n",
       "    </tr>\n",
       "    <tr>\n",
       "      <th>2021-04-16</th>\n",
       "      <td>63258.503906</td>\n",
       "      <td>63594.722656</td>\n",
       "      <td>60222.531250</td>\n",
       "      <td>61572.789062</td>\n",
       "      <td>61572.789062</td>\n",
       "      <td>84293007468</td>\n",
       "    </tr>\n",
       "    <tr>\n",
       "      <th>2021-04-17</th>\n",
       "      <td>61529.921875</td>\n",
       "      <td>62572.175781</td>\n",
       "      <td>60361.351562</td>\n",
       "      <td>60683.820312</td>\n",
       "      <td>60683.820312</td>\n",
       "      <td>66138759198</td>\n",
       "    </tr>\n",
       "    <tr>\n",
       "      <th>2021-04-18</th>\n",
       "      <td>60701.886719</td>\n",
       "      <td>61057.457031</td>\n",
       "      <td>52829.535156</td>\n",
       "      <td>56216.183594</td>\n",
       "      <td>56216.183594</td>\n",
       "      <td>97468872758</td>\n",
       "    </tr>\n",
       "  </tbody>\n",
       "</table>\n",
       "</div>"
      ],
      "text/plain": [
       "                    Open          High           Low         Close  \\\n",
       "Date                                                                 \n",
       "2021-04-14  63523.753906  64863.097656  61554.796875  63109.695312   \n",
       "2021-04-15  63075.195312  63821.671875  62208.964844  63314.011719   \n",
       "2021-04-16  63258.503906  63594.722656  60222.531250  61572.789062   \n",
       "2021-04-17  61529.921875  62572.175781  60361.351562  60683.820312   \n",
       "2021-04-18  60701.886719  61057.457031  52829.535156  56216.183594   \n",
       "\n",
       "               Adj Close       Volume  \n",
       "Date                                   \n",
       "2021-04-14  63109.695312  77451779687  \n",
       "2021-04-15  63314.011719  60954381579  \n",
       "2021-04-16  61572.789062  84293007468  \n",
       "2021-04-17  60683.820312  66138759198  \n",
       "2021-04-18  56216.183594  97468872758  "
      ]
     },
     "execution_count": 7,
     "metadata": {},
     "output_type": "execute_result"
    }
   ],
   "source": [
    "btc = yf.download(\"BTC-USD\", start=start_date, end=today)\n",
    "btc.head()"
   ]
  },
  {
   "cell_type": "markdown",
   "metadata": {},
   "source": [
    "#### 1. Close - Open price"
   ]
  },
  {
   "cell_type": "code",
   "execution_count": 8,
   "metadata": {},
   "outputs": [],
   "source": [
    "btc[\"close_open\"] = btc[\"Close\"] - btc[\"Open\"]"
   ]
  },
  {
   "cell_type": "markdown",
   "metadata": {},
   "source": [
    "#### 2. Open, High, Low, Close, Adj Close, Trading Volume"
   ]
  },
  {
   "cell_type": "markdown",
   "metadata": {},
   "source": [
    "#### 3. Cumulative return"
   ]
  },
  {
   "cell_type": "code",
   "execution_count": 9,
   "metadata": {},
   "outputs": [],
   "source": [
    "btc[\"Daily Return\"] = btc[\"Close\"].pct_change()\n",
    "btc[\"cumulative_return\"] = (1 + btc[\"Daily Return\"]).cumprod() - 1"
   ]
  },
  {
   "cell_type": "markdown",
   "metadata": {},
   "source": [
    "#### 4. Price volatility by 30-day moving standard deviation"
   ]
  },
  {
   "cell_type": "code",
   "execution_count": 10,
   "metadata": {},
   "outputs": [],
   "source": [
    "btc[\"30D_Moving_STD\"] = btc[\"Close\"].rolling(window=30).std()"
   ]
  },
  {
   "cell_type": "markdown",
   "metadata": {},
   "source": [
    "#### 5. Parkinson Volatility"
   ]
  },
  {
   "cell_type": "code",
   "execution_count": 11,
   "metadata": {},
   "outputs": [],
   "source": [
    "btc[\"Parkinson_Volatility\"] = np.sqrt(\n",
    "    (1 / (4 * np.log(2))) * (np.log(btc[\"High\"] / btc[\"Low\"]) ** 2)\n",
    ")"
   ]
  },
  {
   "cell_type": "markdown",
   "metadata": {},
   "source": [
    "#### 6. Relative intraday price change"
   ]
  },
  {
   "cell_type": "code",
   "execution_count": 12,
   "metadata": {},
   "outputs": [],
   "source": [
    "btc[\"Relative_Intraday_Price_Change\"] = (\n",
    "    (btc[\"Close\"] - btc[\"Open\"]) / btc[\"Open\"]\n",
    ") * 100"
   ]
  },
  {
   "cell_type": "markdown",
   "metadata": {},
   "source": [
    "#### 7. Bollinger Bands"
   ]
  },
  {
   "cell_type": "code",
   "execution_count": 13,
   "metadata": {},
   "outputs": [],
   "source": [
    "btc[\"Middle Band\"] = btc[\"Close\"].rolling(window=30).mean()\n",
    "std_close = btc[\"Close\"].rolling(window=30).std()\n",
    "btc[\"Upper Band\"] = btc[\"Middle Band\"] + (std_close * 2)\n",
    "btc[\"Lower Band\"] = btc[\"Middle Band\"] - (std_close * 2)"
   ]
  },
  {
   "cell_type": "markdown",
   "metadata": {},
   "source": [
    "#### 8.Relative Strength Index (RSI)"
   ]
  },
  {
   "cell_type": "code",
   "execution_count": 14,
   "metadata": {},
   "outputs": [],
   "source": [
    "btc[\"rsi\"] = ta.momentum.RSIIndicator(close=btc[\"Close\"], window=14).rsi()"
   ]
  },
  {
   "cell_type": "markdown",
   "metadata": {},
   "source": [
    "#### 9. Stochastic oscillator"
   ]
  },
  {
   "cell_type": "code",
   "execution_count": 15,
   "metadata": {},
   "outputs": [],
   "source": [
    "stoch = ta.momentum.StochasticOscillator(\n",
    "    high=btc[\"High\"], low=btc[\"Low\"], close=btc[\"Close\"], window=14, smooth_window=3\n",
    ")\n",
    "btc[\"stoch_%K\"] = stoch.stoch()\n",
    "btc[\"stoch_%D\"] = stoch.stoch_signal()"
   ]
  },
  {
   "cell_type": "markdown",
   "metadata": {},
   "source": [
    "#### 10. MACD"
   ]
  },
  {
   "cell_type": "code",
   "execution_count": 16,
   "metadata": {},
   "outputs": [],
   "source": [
    "btc[\"macd\"] = ta.trend.MACD(close=btc[\"Close\"]).macd()\n",
    "btc[\"macd_signal\"] = ta.trend.MACD(close=btc[\"Close\"]).macd_signal()"
   ]
  },
  {
   "cell_type": "markdown",
   "metadata": {},
   "source": [
    "#### 11. Average True Range (ATR)"
   ]
  },
  {
   "cell_type": "code",
   "execution_count": 17,
   "metadata": {},
   "outputs": [],
   "source": [
    "btc[\"ATR\"] = ta.volatility.AverageTrueRange(\n",
    "    high=btc[\"High\"], low=btc[\"Low\"], close=btc[\"Close\"], window=14\n",
    ").average_true_range()"
   ]
  },
  {
   "cell_type": "markdown",
   "metadata": {},
   "source": [
    "### Concatenate all features"
   ]
  },
  {
   "cell_type": "code",
   "execution_count": 18,
   "metadata": {},
   "outputs": [
    {
     "data": {
      "text/html": [
       "<div>\n",
       "<style scoped>\n",
       "    .dataframe tbody tr th:only-of-type {\n",
       "        vertical-align: middle;\n",
       "    }\n",
       "\n",
       "    .dataframe tbody tr th {\n",
       "        vertical-align: top;\n",
       "    }\n",
       "\n",
       "    .dataframe thead th {\n",
       "        text-align: right;\n",
       "    }\n",
       "</style>\n",
       "<table border=\"1\" class=\"dataframe\">\n",
       "  <thead>\n",
       "    <tr style=\"text-align: right;\">\n",
       "      <th></th>\n",
       "      <th>Open</th>\n",
       "      <th>High</th>\n",
       "      <th>Low</th>\n",
       "      <th>Close</th>\n",
       "      <th>Adj Close</th>\n",
       "      <th>Volume</th>\n",
       "      <th>close_open</th>\n",
       "      <th>Daily Return</th>\n",
       "      <th>cumulative_return</th>\n",
       "      <th>30D_Moving_STD</th>\n",
       "      <th>...</th>\n",
       "      <th>Relative_Intraday_Price_Change</th>\n",
       "      <th>Middle Band</th>\n",
       "      <th>Upper Band</th>\n",
       "      <th>Lower Band</th>\n",
       "      <th>rsi</th>\n",
       "      <th>stoch_%K</th>\n",
       "      <th>stoch_%D</th>\n",
       "      <th>macd</th>\n",
       "      <th>macd_signal</th>\n",
       "      <th>ATR</th>\n",
       "    </tr>\n",
       "    <tr>\n",
       "      <th>Date</th>\n",
       "      <th></th>\n",
       "      <th></th>\n",
       "      <th></th>\n",
       "      <th></th>\n",
       "      <th></th>\n",
       "      <th></th>\n",
       "      <th></th>\n",
       "      <th></th>\n",
       "      <th></th>\n",
       "      <th></th>\n",
       "      <th></th>\n",
       "      <th></th>\n",
       "      <th></th>\n",
       "      <th></th>\n",
       "      <th></th>\n",
       "      <th></th>\n",
       "      <th></th>\n",
       "      <th></th>\n",
       "      <th></th>\n",
       "      <th></th>\n",
       "      <th></th>\n",
       "    </tr>\n",
       "  </thead>\n",
       "  <tbody>\n",
       "    <tr>\n",
       "      <th>2024-03-20</th>\n",
       "      <td>61930.156250</td>\n",
       "      <td>68115.257812</td>\n",
       "      <td>60807.785156</td>\n",
       "      <td>67913.671875</td>\n",
       "      <td>67913.671875</td>\n",
       "      <td>66792634382</td>\n",
       "      <td>5983.515625</td>\n",
       "      <td>0.096925</td>\n",
       "      <td>0.076121</td>\n",
       "      <td>7175.621882</td>\n",
       "      <td>...</td>\n",
       "      <td>9.661716</td>\n",
       "      <td>63065.554167</td>\n",
       "      <td>77416.797930</td>\n",
       "      <td>48714.310403</td>\n",
       "      <td>56.489051</td>\n",
       "      <td>54.904421</td>\n",
       "      <td>38.333343</td>\n",
       "      <td>2909.940528</td>\n",
       "      <td>4022.729251</td>\n",
       "      <td>3979.835920</td>\n",
       "    </tr>\n",
       "    <tr>\n",
       "      <th>2024-03-21</th>\n",
       "      <td>67911.585938</td>\n",
       "      <td>68199.992188</td>\n",
       "      <td>64580.917969</td>\n",
       "      <td>65491.390625</td>\n",
       "      <td>65491.390625</td>\n",
       "      <td>44480350565</td>\n",
       "      <td>-2420.195312</td>\n",
       "      <td>-0.035667</td>\n",
       "      <td>0.037739</td>\n",
       "      <td>6890.885625</td>\n",
       "      <td>...</td>\n",
       "      <td>-3.563744</td>\n",
       "      <td>63505.771354</td>\n",
       "      <td>77287.542605</td>\n",
       "      <td>49724.000103</td>\n",
       "      <td>52.298181</td>\n",
       "      <td>36.188397</td>\n",
       "      <td>31.392047</td>\n",
       "      <td>2562.282393</td>\n",
       "      <td>3730.639879</td>\n",
       "      <td>3954.067227</td>\n",
       "    </tr>\n",
       "    <tr>\n",
       "      <th>2024-03-22</th>\n",
       "      <td>65489.929688</td>\n",
       "      <td>66623.750000</td>\n",
       "      <td>62355.371094</td>\n",
       "      <td>63778.761719</td>\n",
       "      <td>63778.761719</td>\n",
       "      <td>41401116964</td>\n",
       "      <td>-1711.167969</td>\n",
       "      <td>-0.026150</td>\n",
       "      <td>0.010602</td>\n",
       "      <td>6529.134208</td>\n",
       "      <td>...</td>\n",
       "      <td>-2.612872</td>\n",
       "      <td>63903.757422</td>\n",
       "      <td>76962.025838</td>\n",
       "      <td>50845.489006</td>\n",
       "      <td>49.501874</td>\n",
       "      <td>22.955580</td>\n",
       "      <td>38.016132</td>\n",
       "      <td>2124.080895</td>\n",
       "      <td>3409.328082</td>\n",
       "      <td>3976.518061</td>\n",
       "    </tr>\n",
       "    <tr>\n",
       "      <th>2024-03-23</th>\n",
       "      <td>63802.722656</td>\n",
       "      <td>65976.398438</td>\n",
       "      <td>63038.492188</td>\n",
       "      <td>64062.203125</td>\n",
       "      <td>64062.203125</td>\n",
       "      <td>24738964812</td>\n",
       "      <td>259.480469</td>\n",
       "      <td>0.004444</td>\n",
       "      <td>0.015093</td>\n",
       "      <td>6080.293328</td>\n",
       "      <td>...</td>\n",
       "      <td>0.406692</td>\n",
       "      <td>64328.998437</td>\n",
       "      <td>76489.585093</td>\n",
       "      <td>52168.411782</td>\n",
       "      <td>49.978567</td>\n",
       "      <td>25.145621</td>\n",
       "      <td>28.096532</td>\n",
       "      <td>1779.165292</td>\n",
       "      <td>3083.295524</td>\n",
       "      <td>3902.331503</td>\n",
       "    </tr>\n",
       "    <tr>\n",
       "      <th>2024-03-24</th>\n",
       "      <td>64070.753906</td>\n",
       "      <td>67622.757812</td>\n",
       "      <td>63825.851562</td>\n",
       "      <td>67234.171875</td>\n",
       "      <td>67234.171875</td>\n",
       "      <td>27206630673</td>\n",
       "      <td>3163.417969</td>\n",
       "      <td>0.049514</td>\n",
       "      <td>0.065354</td>\n",
       "      <td>5529.269708</td>\n",
       "      <td>...</td>\n",
       "      <td>4.937382</td>\n",
       "      <td>64879.072526</td>\n",
       "      <td>75937.611942</td>\n",
       "      <td>53820.533110</td>\n",
       "      <td>55.088041</td>\n",
       "      <td>49.654189</td>\n",
       "      <td>32.585130</td>\n",
       "      <td>1741.691427</td>\n",
       "      <td>2814.974705</td>\n",
       "      <td>3894.801128</td>\n",
       "    </tr>\n",
       "  </tbody>\n",
       "</table>\n",
       "<p>5 rows × 21 columns</p>\n",
       "</div>"
      ],
      "text/plain": [
       "                    Open          High           Low         Close  \\\n",
       "Date                                                                 \n",
       "2024-03-20  61930.156250  68115.257812  60807.785156  67913.671875   \n",
       "2024-03-21  67911.585938  68199.992188  64580.917969  65491.390625   \n",
       "2024-03-22  65489.929688  66623.750000  62355.371094  63778.761719   \n",
       "2024-03-23  63802.722656  65976.398438  63038.492188  64062.203125   \n",
       "2024-03-24  64070.753906  67622.757812  63825.851562  67234.171875   \n",
       "\n",
       "               Adj Close       Volume   close_open  Daily Return  \\\n",
       "Date                                                               \n",
       "2024-03-20  67913.671875  66792634382  5983.515625      0.096925   \n",
       "2024-03-21  65491.390625  44480350565 -2420.195312     -0.035667   \n",
       "2024-03-22  63778.761719  41401116964 -1711.167969     -0.026150   \n",
       "2024-03-23  64062.203125  24738964812   259.480469      0.004444   \n",
       "2024-03-24  67234.171875  27206630673  3163.417969      0.049514   \n",
       "\n",
       "            cumulative_return  30D_Moving_STD  ...  \\\n",
       "Date                                           ...   \n",
       "2024-03-20           0.076121     7175.621882  ...   \n",
       "2024-03-21           0.037739     6890.885625  ...   \n",
       "2024-03-22           0.010602     6529.134208  ...   \n",
       "2024-03-23           0.015093     6080.293328  ...   \n",
       "2024-03-24           0.065354     5529.269708  ...   \n",
       "\n",
       "            Relative_Intraday_Price_Change   Middle Band    Upper Band  \\\n",
       "Date                                                                     \n",
       "2024-03-20                        9.661716  63065.554167  77416.797930   \n",
       "2024-03-21                       -3.563744  63505.771354  77287.542605   \n",
       "2024-03-22                       -2.612872  63903.757422  76962.025838   \n",
       "2024-03-23                        0.406692  64328.998437  76489.585093   \n",
       "2024-03-24                        4.937382  64879.072526  75937.611942   \n",
       "\n",
       "              Lower Band        rsi   stoch_%K   stoch_%D         macd  \\\n",
       "Date                                                                     \n",
       "2024-03-20  48714.310403  56.489051  54.904421  38.333343  2909.940528   \n",
       "2024-03-21  49724.000103  52.298181  36.188397  31.392047  2562.282393   \n",
       "2024-03-22  50845.489006  49.501874  22.955580  38.016132  2124.080895   \n",
       "2024-03-23  52168.411782  49.978567  25.145621  28.096532  1779.165292   \n",
       "2024-03-24  53820.533110  55.088041  49.654189  32.585130  1741.691427   \n",
       "\n",
       "            macd_signal          ATR  \n",
       "Date                                  \n",
       "2024-03-20  4022.729251  3979.835920  \n",
       "2024-03-21  3730.639879  3954.067227  \n",
       "2024-03-22  3409.328082  3976.518061  \n",
       "2024-03-23  3083.295524  3902.331503  \n",
       "2024-03-24  2814.974705  3894.801128  \n",
       "\n",
       "[5 rows x 21 columns]"
      ]
     },
     "execution_count": 18,
     "metadata": {},
     "output_type": "execute_result"
    }
   ],
   "source": [
    "btc.tail()"
   ]
  },
  {
   "cell_type": "code",
   "execution_count": 19,
   "metadata": {},
   "outputs": [
    {
     "data": {
      "text/html": [
       "<div>\n",
       "<style scoped>\n",
       "    .dataframe tbody tr th:only-of-type {\n",
       "        vertical-align: middle;\n",
       "    }\n",
       "\n",
       "    .dataframe tbody tr th {\n",
       "        vertical-align: top;\n",
       "    }\n",
       "\n",
       "    .dataframe thead th {\n",
       "        text-align: right;\n",
       "    }\n",
       "</style>\n",
       "<table border=\"1\" class=\"dataframe\">\n",
       "  <thead>\n",
       "    <tr style=\"text-align: right;\">\n",
       "      <th></th>\n",
       "      <th>Open</th>\n",
       "      <th>High</th>\n",
       "      <th>Low</th>\n",
       "      <th>Close</th>\n",
       "      <th>Adj Close</th>\n",
       "      <th>Volume</th>\n",
       "      <th>close_open</th>\n",
       "      <th>Daily Return</th>\n",
       "      <th>cumulative_return</th>\n",
       "      <th>30D_Moving_STD</th>\n",
       "      <th>...</th>\n",
       "      <th>stoch_%K</th>\n",
       "      <th>stoch_%D</th>\n",
       "      <th>macd</th>\n",
       "      <th>macd_signal</th>\n",
       "      <th>ATR</th>\n",
       "      <th>DGS10</th>\n",
       "      <th>DTB3</th>\n",
       "      <th>T5YIE</th>\n",
       "      <th>S&amp;P500 Close</th>\n",
       "      <th>VIX Close</th>\n",
       "    </tr>\n",
       "  </thead>\n",
       "  <tbody>\n",
       "    <tr>\n",
       "      <th>2021-04-14</th>\n",
       "      <td>63523.753906</td>\n",
       "      <td>64863.097656</td>\n",
       "      <td>61554.796875</td>\n",
       "      <td>63109.695312</td>\n",
       "      <td>63109.695312</td>\n",
       "      <td>7.745178e+10</td>\n",
       "      <td>-414.058594</td>\n",
       "      <td>NaN</td>\n",
       "      <td>NaN</td>\n",
       "      <td>NaN</td>\n",
       "      <td>...</td>\n",
       "      <td>NaN</td>\n",
       "      <td>NaN</td>\n",
       "      <td>NaN</td>\n",
       "      <td>NaN</td>\n",
       "      <td>0.0</td>\n",
       "      <td>1.64</td>\n",
       "      <td>0.02</td>\n",
       "      <td>2.56</td>\n",
       "      <td>4124.660156</td>\n",
       "      <td>16.99</td>\n",
       "    </tr>\n",
       "    <tr>\n",
       "      <th>2021-04-15</th>\n",
       "      <td>63075.195312</td>\n",
       "      <td>63821.671875</td>\n",
       "      <td>62208.964844</td>\n",
       "      <td>63314.011719</td>\n",
       "      <td>63314.011719</td>\n",
       "      <td>6.095438e+10</td>\n",
       "      <td>238.816406</td>\n",
       "      <td>0.003237</td>\n",
       "      <td>0.003237</td>\n",
       "      <td>NaN</td>\n",
       "      <td>...</td>\n",
       "      <td>NaN</td>\n",
       "      <td>NaN</td>\n",
       "      <td>NaN</td>\n",
       "      <td>NaN</td>\n",
       "      <td>0.0</td>\n",
       "      <td>1.56</td>\n",
       "      <td>0.02</td>\n",
       "      <td>2.55</td>\n",
       "      <td>4170.419922</td>\n",
       "      <td>16.57</td>\n",
       "    </tr>\n",
       "    <tr>\n",
       "      <th>2021-04-16</th>\n",
       "      <td>63258.503906</td>\n",
       "      <td>63594.722656</td>\n",
       "      <td>60222.531250</td>\n",
       "      <td>61572.789062</td>\n",
       "      <td>61572.789062</td>\n",
       "      <td>8.429301e+10</td>\n",
       "      <td>-1685.714844</td>\n",
       "      <td>-0.027501</td>\n",
       "      <td>-0.024353</td>\n",
       "      <td>NaN</td>\n",
       "      <td>...</td>\n",
       "      <td>NaN</td>\n",
       "      <td>NaN</td>\n",
       "      <td>NaN</td>\n",
       "      <td>NaN</td>\n",
       "      <td>0.0</td>\n",
       "      <td>1.59</td>\n",
       "      <td>0.02</td>\n",
       "      <td>2.57</td>\n",
       "      <td>4185.470215</td>\n",
       "      <td>16.25</td>\n",
       "    </tr>\n",
       "    <tr>\n",
       "      <th>2021-04-17</th>\n",
       "      <td>61529.921875</td>\n",
       "      <td>62572.175781</td>\n",
       "      <td>60361.351562</td>\n",
       "      <td>60683.820312</td>\n",
       "      <td>60683.820312</td>\n",
       "      <td>6.613876e+10</td>\n",
       "      <td>-846.101562</td>\n",
       "      <td>-0.014438</td>\n",
       "      <td>-0.038439</td>\n",
       "      <td>NaN</td>\n",
       "      <td>...</td>\n",
       "      <td>NaN</td>\n",
       "      <td>NaN</td>\n",
       "      <td>NaN</td>\n",
       "      <td>NaN</td>\n",
       "      <td>0.0</td>\n",
       "      <td>NaN</td>\n",
       "      <td>NaN</td>\n",
       "      <td>NaN</td>\n",
       "      <td>NaN</td>\n",
       "      <td>NaN</td>\n",
       "    </tr>\n",
       "    <tr>\n",
       "      <th>2021-04-18</th>\n",
       "      <td>60701.886719</td>\n",
       "      <td>61057.457031</td>\n",
       "      <td>52829.535156</td>\n",
       "      <td>56216.183594</td>\n",
       "      <td>56216.183594</td>\n",
       "      <td>9.746887e+10</td>\n",
       "      <td>-4485.703125</td>\n",
       "      <td>-0.073622</td>\n",
       "      <td>-0.109231</td>\n",
       "      <td>NaN</td>\n",
       "      <td>...</td>\n",
       "      <td>NaN</td>\n",
       "      <td>NaN</td>\n",
       "      <td>NaN</td>\n",
       "      <td>NaN</td>\n",
       "      <td>0.0</td>\n",
       "      <td>NaN</td>\n",
       "      <td>NaN</td>\n",
       "      <td>NaN</td>\n",
       "      <td>NaN</td>\n",
       "      <td>NaN</td>\n",
       "    </tr>\n",
       "  </tbody>\n",
       "</table>\n",
       "<p>5 rows × 26 columns</p>\n",
       "</div>"
      ],
      "text/plain": [
       "                    Open          High           Low         Close  \\\n",
       "2021-04-14  63523.753906  64863.097656  61554.796875  63109.695312   \n",
       "2021-04-15  63075.195312  63821.671875  62208.964844  63314.011719   \n",
       "2021-04-16  63258.503906  63594.722656  60222.531250  61572.789062   \n",
       "2021-04-17  61529.921875  62572.175781  60361.351562  60683.820312   \n",
       "2021-04-18  60701.886719  61057.457031  52829.535156  56216.183594   \n",
       "\n",
       "               Adj Close        Volume   close_open  Daily Return  \\\n",
       "2021-04-14  63109.695312  7.745178e+10  -414.058594           NaN   \n",
       "2021-04-15  63314.011719  6.095438e+10   238.816406      0.003237   \n",
       "2021-04-16  61572.789062  8.429301e+10 -1685.714844     -0.027501   \n",
       "2021-04-17  60683.820312  6.613876e+10  -846.101562     -0.014438   \n",
       "2021-04-18  56216.183594  9.746887e+10 -4485.703125     -0.073622   \n",
       "\n",
       "            cumulative_return  30D_Moving_STD  ...  stoch_%K  stoch_%D  macd  \\\n",
       "2021-04-14                NaN             NaN  ...       NaN       NaN   NaN   \n",
       "2021-04-15           0.003237             NaN  ...       NaN       NaN   NaN   \n",
       "2021-04-16          -0.024353             NaN  ...       NaN       NaN   NaN   \n",
       "2021-04-17          -0.038439             NaN  ...       NaN       NaN   NaN   \n",
       "2021-04-18          -0.109231             NaN  ...       NaN       NaN   NaN   \n",
       "\n",
       "            macd_signal  ATR  DGS10  DTB3  T5YIE  S&P500 Close  VIX Close  \n",
       "2021-04-14          NaN  0.0   1.64  0.02   2.56   4124.660156      16.99  \n",
       "2021-04-15          NaN  0.0   1.56  0.02   2.55   4170.419922      16.57  \n",
       "2021-04-16          NaN  0.0   1.59  0.02   2.57   4185.470215      16.25  \n",
       "2021-04-17          NaN  0.0    NaN   NaN    NaN           NaN        NaN  \n",
       "2021-04-18          NaN  0.0    NaN   NaN    NaN           NaN        NaN  \n",
       "\n",
       "[5 rows x 26 columns]"
      ]
     },
     "execution_count": 19,
     "metadata": {},
     "output_type": "execute_result"
    }
   ],
   "source": [
    "combined_df = pd.concat(\n",
    "    [\n",
    "        btc,\n",
    "        ten_year_treasury_rate,\n",
    "        three_month_tbill_yield,\n",
    "        five_year_breakeven_inflation,\n",
    "        sp500_close,\n",
    "        vix_close,\n",
    "    ],\n",
    "    axis=1,\n",
    "    join=\"outer\",\n",
    ")\n",
    "\n",
    "combined_df.head()"
   ]
  },
  {
   "cell_type": "markdown",
   "metadata": {},
   "source": [
    "> Depends on rolling window of calculations, we have some missing values at the top of the df. Filled with the next available value. (window choices are intuitive for now)\n",
    "\n",
    "> Bitcoin is traded 24/7, where T-bills and notes are not. Weekend's missing values are filled with the previous day's value."
   ]
  },
  {
   "cell_type": "code",
   "execution_count": 20,
   "metadata": {},
   "outputs": [],
   "source": [
    "combined_df.ffill(inplace=True)"
   ]
  },
  {
   "cell_type": "code",
   "execution_count": 21,
   "metadata": {},
   "outputs": [
    {
     "name": "stderr",
     "output_type": "stream",
     "text": [
      "/var/folders/2j/k_c_x4ps7n352tzdqvckkvb80000gn/T/ipykernel_1892/2969618947.py:1: FutureWarning: DataFrame.backfill/Series.backfill is deprecated. Use DataFrame.bfill/Series.bfill instead\n",
      "  combined_df.backfill(inplace=True)\n"
     ]
    }
   ],
   "source": [
    "combined_df.backfill(inplace=True)"
   ]
  },
  {
   "cell_type": "code",
   "execution_count": 22,
   "metadata": {},
   "outputs": [],
   "source": [
    "combined_df.to_csv(\"features.csv\")"
   ]
  }
 ],
 "metadata": {
  "kernelspec": {
   "display_name": "base",
   "language": "python",
   "name": "python3"
  },
  "language_info": {
   "codemirror_mode": {
    "name": "ipython",
    "version": 3
   },
   "file_extension": ".py",
   "mimetype": "text/x-python",
   "name": "python",
   "nbconvert_exporter": "python",
   "pygments_lexer": "ipython3",
   "version": "3.11.8"
  }
 },
 "nbformat": 4,
 "nbformat_minor": 2
}
